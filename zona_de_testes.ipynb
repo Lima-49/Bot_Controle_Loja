{
 "cells": [
  {
   "cell_type": "code",
   "execution_count": 13,
   "metadata": {},
   "outputs": [],
   "source": [
    "from selenium import webdriver\n",
    "from selenium.webdriver.common import actions\n",
    "from selenium.webdriver.common.by import By\n",
    "from selenium.webdriver.common.action_chains import ActionChains\n",
    "from selenium.webdriver.support import expected_conditions\n",
    "from selenium.webdriver.support.wait import WebDriverWait\n",
    "from selenium.webdriver.common.keys import Keys\n",
    "from selenium.webdriver.chrome.options import Options\n",
    "from selenium.webdriver.support import expected_conditions as ec\n",
    "import pandas as pd \n",
    "import os \n",
    "import sys\n",
    "from datetime import date, datetime\n",
    "import chromedriver_autoinstaller\n",
    "from bs4 import BeautifulSoup\n",
    "import lxml\n",
    "import time\n",
    "import requests, pickle"
   ]
  },
  {
   "cell_type": "code",
   "execution_count": 14,
   "metadata": {},
   "outputs": [],
   "source": [
    "def clicking(path, element='elemento selecionado', refresh=False, by=By.XPATH, limit=3):\n",
    "    \"\"\"\n",
    "    * path: caminho do elemento que será encontrado na página. Pode ser um xpath, um ID, um name e etc;\n",
    "    * element: nome do elemento que será encontrado na página. Esse parâmetro tem como finalidade unicamente para melhor depuração. Pode ser omitido;\n",
    "    * refresh: default False - tem como objetivo atualizar a página para tentar clicar no elemento. Utilizado para clicar em arquivos em listas de query;\n",
    "    * by: default XPATH - método utilizado para localizar o elemento, como XPATH, ID, NAME, CSS_SELECTOR e etc;\n",
    "    * limit: default 3 - quantidade de vezes que a função irá tentar clicar no elemento. Por padrão, cada tentativa leva 20 segundos. Se o elemento não for encontrado, retornará None;\n",
    "    \"\"\"\n",
    "\n",
    "\n",
    "    if limit == 0:\n",
    "        return None\n",
    "\n",
    "\n",
    "    elif refresh:\n",
    "        driver.refresh()\n",
    "\n",
    "    try:\n",
    "        object = driver.find_element(by, path)\n",
    "        actions = ActionChains(driver)\n",
    "        actions.move_to_element(object).perform()\n",
    "        \n",
    "        found_element = driver.find_element(by, path)\n",
    "        print(f\">>>Sucesso {element}>>>\")\n",
    "\n",
    "    except:\n",
    "        print(f\"<<<Erro ao {element}, tentando novamente>>>\")\n",
    "        found_element = clicking(element=element, path=path, refresh=refresh, by=by, limit=limit - 1)\n",
    "\n",
    "\n",
    "    return found_element\n",
    "\n",
    "def create_driver(download_dir=None, headless=False):\n",
    "    chrome_options = Options()\n",
    "\n",
    "    if headless:\n",
    "        chrome_options.headless=True\n",
    "\n",
    "    if download_dir is not None:\n",
    "        download_dir=str(download_dir)\n",
    "\n",
    "    preferences = {\"download.default_directory\": download_dir,\n",
    "                   \"directory_upgrade\": True,\n",
    "                   \"safebrowsing.enabled\": True}\n",
    "                   \n",
    "    #chrome_options.add_argument(\"user-data-dir=C:\\\\Users\\\\vitor\\\\AppData\\\\Local\\\\Google\\\\Chrome\\\\User Data\")\n",
    "    chrome_options.add_argument(f\"user-data-dir={os.path.join(os.getcwd(), 'profile', 'wpp')}\")\n",
    "    chrome_options.add_experimental_option(\"prefs\", preferences)\n",
    "    chromedriver_autoinstaller.install()\n",
    "    driver = webdriver.Chrome(options=chrome_options)\n",
    "    driver.implicitly_wait(20)\n",
    "\n",
    "    return driver\n",
    "\n",
    "def error(e):\n",
    "    print(\"Apresentou erro, gravando o erro\")\n",
    "    exc_type, exc_obj, exc_tb = sys.exc_info()\n",
    "    fname = os.path.split(exc_tb.tb_frame.f_code.co_filename)[1]\n",
    "    path_erro = r'\\\\branas06av3-nrd\\LAR_BRA_DIGITAL_F\\Facens\\Logs'\n",
    "    #path_erro = r\"C:\\Users\\IWX1057086\\Documents\\Programas\\TIM RPA\\log\"\n",
    "    today = date.today()\n",
    "    name = str(fname) + '_' + str(today) + '.txt'\n",
    "    arquivo = open(path_erro + '\\\\' + name, 'w')\n",
    "    arquivo.write(str(fname) + \"\\n\")\n",
    "    arquivo.write(str(e) + \"\\n\")\n",
    "    arquivo.write(str(exc_type) + \"\\n\")\n",
    "    arquivo.write(str(exc_tb.tb_lineno) + \"\\n\")\n",
    "    arquivo.close()\n",
    "   "
   ]
  },
  {
   "cell_type": "code",
   "execution_count": 15,
   "metadata": {},
   "outputs": [],
   "source": [
    "driver = create_driver()\n",
    "\n",
    "#Login\n",
    "usr = 'Alineliel'\n",
    "psw = 'Vitor*06'\n",
    "\n",
    "driver.get('https://phibo.space')"
   ]
  },
  {
   "cell_type": "code",
   "execution_count": 16,
   "metadata": {},
   "outputs": [
    {
     "name": "stdout",
     "output_type": "stream",
     "text": [
      ">>>Sucesso Passando o usuario>>>\n",
      ">>>Sucesso Passando a senha>>>\n",
      ">>>Sucesso Clicando em acessar>>>\n"
     ]
    }
   ],
   "source": [
    "clicking(element='Passando o usuario', path=\"/html/body/div[1]/form/div/div/input[1]\").send_keys(usr)\n",
    "clicking(element=\"Passando a senha\", path='/html/body/div[1]/form/div/div/input[2]').send_keys(psw)\n",
    "clicking(element='Clicando em acessar', path='/html/body/div[1]/form/div/div/button').click()\n"
   ]
  },
  {
   "cell_type": "code",
   "execution_count": 17,
   "metadata": {},
   "outputs": [
    {
     "name": "stdout",
     "output_type": "stream",
     "text": [
      ">>>Sucesso Clicando em vendas>>>\n",
      ">>>Sucesso Clicando em vendas>>>\n",
      ">>>Sucesso Clicando em vendas>>>\n",
      ">>>Sucesso Clicando em vendas>>>\n"
     ]
    }
   ],
   "source": [
    "clicking(element='Clicando em vendas', path='/html/body/div[1]/div[2]/div[1]/div[2]/form/table/tbody/tr/td[1]/div/ul/li[3]/a/span[2]').click()\n",
    "clicking(element='Clicando em vendas', path='/html/body/div[1]/div[2]/div[1]/div[2]/form/table/tbody/tr/td[1]/div/ul/li[3]/a/span[2]').click()\n",
    "clicking(element='Clicando em vendas', path='/html/body/div[1]/div[2]/div[1]/div[2]/form/table/tbody/tr/td[1]/div/ul/li[3]/a/span[2]').click()\n",
    "clicking(element='Clicando em vendas', path='/html/body/div[1]/div[2]/div[1]/div[2]/form/table/tbody/tr/td[1]/div/ul/li[3]/a/span[2]').click()"
   ]
  },
  {
   "cell_type": "code",
   "execution_count": 18,
   "metadata": {},
   "outputs": [
    {
     "name": "stdout",
     "output_type": "stream",
     "text": [
      ">>>Sucesso Selecionado Consulta Vendas>>>\n",
      ">>>Sucesso Selecionando Listar Cartão Fidelidade>>>\n"
     ]
    }
   ],
   "source": [
    "clicking(element='Selecionado Consulta Vendas', path=\"//span[text()='Consulta Vendas']\").click()                                                                    \n",
    "clicking(element='Selecionando Listar Cartão Fidelidade', path=\"//span[text()='Listar Cartão Fidelidade']\").click()\n",
    "time.sleep(10)"
   ]
  },
  {
   "cell_type": "code",
   "execution_count": 19,
   "metadata": {},
   "outputs": [
    {
     "name": "stdout",
     "output_type": "stream",
     "text": [
      ">>>Sucesso Limpando o campo de Quantidade>>>\n",
      ">>>Sucesso Limpando o campo de Quantidade>>>\n"
     ]
    }
   ],
   "source": [
    "clicking(element='Limpando o campo de Quantidade', path='/html/body/div[1]/div[2]/div[3]/form/table/tbody/tr/td[2]/div/span[1]/input[1]').clear()\n",
    "clicking(element='Limpando o campo de Quantidade', path='/html/body/div[1]/div[2]/div[3]/form/table/tbody/tr/td[2]/div/span[1]/input[1]').send_keys('10,00')"
   ]
  },
  {
   "cell_type": "code",
   "execution_count": 20,
   "metadata": {},
   "outputs": [
    {
     "name": "stdout",
     "output_type": "stream",
     "text": [
      ">>>Sucesso Clicando o campo de confirmar>>>\n"
     ]
    }
   ],
   "source": [
    "clicking(element='Clicando o campo de confirmar', path='/html/body/div[1]/div[2]/div[3]/form/table/tbody/tr/td[3]/a').click()\n",
    "time.sleep(10)"
   ]
  },
  {
   "cell_type": "code",
   "execution_count": 21,
   "metadata": {},
   "outputs": [],
   "source": [
    "df_fidelidade = pd.read_html(driver.find_element(By.XPATH, \"/html/body/div[1]/div[2]/div[3]/form/div[2]/div[2]/table\").get_attribute('outerHTML'))[0]"
   ]
  },
  {
   "cell_type": "markdown",
   "metadata": {},
   "source": [
    "### Whatsapp\n"
   ]
  },
  {
   "cell_type": "code",
   "execution_count": 3,
   "metadata": {},
   "outputs": [
    {
     "ename": "WebDriverException",
     "evalue": "Message: unknown error: cannot determine loading status\nfrom disconnected: Unable to receive message from renderer\n  (Session info: chrome=104.0.5112.79)\nStacktrace:\nBacktrace:\n\tOrdinal0 [0x008FAF23+2207523]\n\tOrdinal0 [0x008930E1+1781985]\n\tOrdinal0 [0x007A3FE8+802792]\n\tOrdinal0 [0x00796F7C+749436]\n\tOrdinal0 [0x00795CF4+744692]\n\tOrdinal0 [0x007962F8+746232]\n\tOrdinal0 [0x007A0450+787536]\n\tOrdinal0 [0x0079767D+751229]\n\tOrdinal0 [0x007982B1+754353]\n\tOrdinal0 [0x0079788A+751754]\n\tOrdinal0 [0x00796E0F+749071]\n\tOrdinal0 [0x00795CF4+744692]\n\tOrdinal0 [0x007961CD+745933]\n\tOrdinal0 [0x007A57B4+808884]\n\tOrdinal0 [0x007FE0AD+1171629]\n\tOrdinal0 [0x007ED5EC+1103340]\n\tOrdinal0 [0x007FD9F2+1169906]\n\tOrdinal0 [0x007ED406+1102854]\n\tOrdinal0 [0x007C75F0+947696]\n\tOrdinal0 [0x007C84E6+951526]\n\tGetHandleVerifier [0x00BA2A12+2733954]\n\tGetHandleVerifier [0x00B94E28+2677656]\n\tGetHandleVerifier [0x009846EA+513114]\n\tGetHandleVerifier [0x00983796+509190]\n\tOrdinal0 [0x00899CEB+1809643]\n\tOrdinal0 [0x0089E448+1827912]\n\tOrdinal0 [0x0089E535+1828149]\n\tOrdinal0 [0x008A7960+1866080]\n\tBaseThreadInitThunk [0x758CFA29+25]\n\tRtlGetAppContainerNamedObjectPath [0x76F07A9E+286]\n\tRtlGetAppContainerNamedObjectPath [0x76F07A6E+238]\n",
     "output_type": "error",
     "traceback": [
      "\u001b[1;31m---------------------------------------------------------------------------\u001b[0m",
      "\u001b[1;31mWebDriverException\u001b[0m                        Traceback (most recent call last)",
      "\u001b[1;32mc:\\Users\\vitor\\Documents\\Programas\\Bot_Controle_Loja\\zona_de_testes.ipynb Célula: 4\u001b[0m in \u001b[0;36m<cell line: 2>\u001b[1;34m()\u001b[0m\n\u001b[0;32m      <a href='vscode-notebook-cell:/c%3A/Users/vitor/Documents/Programas/Bot_Controle_Loja/zona_de_testes.ipynb#ch0000002?line=0'>1</a>\u001b[0m driver \u001b[39m=\u001b[39m create_driver(download_dir\u001b[39m=\u001b[39m\u001b[39mNone\u001b[39;00m, headless\u001b[39m=\u001b[39m\u001b[39mFalse\u001b[39;00m)\n\u001b[1;32m----> <a href='vscode-notebook-cell:/c%3A/Users/vitor/Documents/Programas/Bot_Controle_Loja/zona_de_testes.ipynb#ch0000002?line=1'>2</a>\u001b[0m driver\u001b[39m.\u001b[39;49mget(\u001b[39m'\u001b[39;49m\u001b[39mhttp://web.whatsapp.com/\u001b[39;49m\u001b[39m'\u001b[39;49m)\n",
      "File \u001b[1;32mc:\\Users\\vitor\\Documents\\Programas\\Bot_Controle_Loja\\venv\\lib\\site-packages\\selenium\\webdriver\\remote\\webdriver.py:447\u001b[0m, in \u001b[0;36mWebDriver.get\u001b[1;34m(self, url)\u001b[0m\n\u001b[0;32m    443\u001b[0m \u001b[39mdef\u001b[39;00m \u001b[39mget\u001b[39m(\u001b[39mself\u001b[39m, url: \u001b[39mstr\u001b[39m) \u001b[39m-\u001b[39m\u001b[39m>\u001b[39m \u001b[39mNone\u001b[39;00m:\n\u001b[0;32m    444\u001b[0m     \u001b[39m\"\"\"\u001b[39;00m\n\u001b[0;32m    445\u001b[0m \u001b[39m    Loads a web page in the current browser session.\u001b[39;00m\n\u001b[0;32m    446\u001b[0m \u001b[39m    \"\"\"\u001b[39;00m\n\u001b[1;32m--> 447\u001b[0m     \u001b[39mself\u001b[39;49m\u001b[39m.\u001b[39;49mexecute(Command\u001b[39m.\u001b[39;49mGET, {\u001b[39m'\u001b[39;49m\u001b[39murl\u001b[39;49m\u001b[39m'\u001b[39;49m: url})\n",
      "File \u001b[1;32mc:\\Users\\vitor\\Documents\\Programas\\Bot_Controle_Loja\\venv\\lib\\site-packages\\selenium\\webdriver\\remote\\webdriver.py:435\u001b[0m, in \u001b[0;36mWebDriver.execute\u001b[1;34m(self, driver_command, params)\u001b[0m\n\u001b[0;32m    433\u001b[0m response \u001b[39m=\u001b[39m \u001b[39mself\u001b[39m\u001b[39m.\u001b[39mcommand_executor\u001b[39m.\u001b[39mexecute(driver_command, params)\n\u001b[0;32m    434\u001b[0m \u001b[39mif\u001b[39;00m response:\n\u001b[1;32m--> 435\u001b[0m     \u001b[39mself\u001b[39;49m\u001b[39m.\u001b[39;49merror_handler\u001b[39m.\u001b[39;49mcheck_response(response)\n\u001b[0;32m    436\u001b[0m     response[\u001b[39m'\u001b[39m\u001b[39mvalue\u001b[39m\u001b[39m'\u001b[39m] \u001b[39m=\u001b[39m \u001b[39mself\u001b[39m\u001b[39m.\u001b[39m_unwrap_value(\n\u001b[0;32m    437\u001b[0m         response\u001b[39m.\u001b[39mget(\u001b[39m'\u001b[39m\u001b[39mvalue\u001b[39m\u001b[39m'\u001b[39m, \u001b[39mNone\u001b[39;00m))\n\u001b[0;32m    438\u001b[0m     \u001b[39mreturn\u001b[39;00m response\n",
      "File \u001b[1;32mc:\\Users\\vitor\\Documents\\Programas\\Bot_Controle_Loja\\venv\\lib\\site-packages\\selenium\\webdriver\\remote\\errorhandler.py:247\u001b[0m, in \u001b[0;36mErrorHandler.check_response\u001b[1;34m(self, response)\u001b[0m\n\u001b[0;32m    245\u001b[0m         alert_text \u001b[39m=\u001b[39m value[\u001b[39m'\u001b[39m\u001b[39malert\u001b[39m\u001b[39m'\u001b[39m]\u001b[39m.\u001b[39mget(\u001b[39m'\u001b[39m\u001b[39mtext\u001b[39m\u001b[39m'\u001b[39m)\n\u001b[0;32m    246\u001b[0m     \u001b[39mraise\u001b[39;00m exception_class(message, screen, stacktrace, alert_text)  \u001b[39m# type: ignore[call-arg]  # mypy is not smart enough here\u001b[39;00m\n\u001b[1;32m--> 247\u001b[0m \u001b[39mraise\u001b[39;00m exception_class(message, screen, stacktrace)\n",
      "\u001b[1;31mWebDriverException\u001b[0m: Message: unknown error: cannot determine loading status\nfrom disconnected: Unable to receive message from renderer\n  (Session info: chrome=104.0.5112.79)\nStacktrace:\nBacktrace:\n\tOrdinal0 [0x008FAF23+2207523]\n\tOrdinal0 [0x008930E1+1781985]\n\tOrdinal0 [0x007A3FE8+802792]\n\tOrdinal0 [0x00796F7C+749436]\n\tOrdinal0 [0x00795CF4+744692]\n\tOrdinal0 [0x007962F8+746232]\n\tOrdinal0 [0x007A0450+787536]\n\tOrdinal0 [0x0079767D+751229]\n\tOrdinal0 [0x007982B1+754353]\n\tOrdinal0 [0x0079788A+751754]\n\tOrdinal0 [0x00796E0F+749071]\n\tOrdinal0 [0x00795CF4+744692]\n\tOrdinal0 [0x007961CD+745933]\n\tOrdinal0 [0x007A57B4+808884]\n\tOrdinal0 [0x007FE0AD+1171629]\n\tOrdinal0 [0x007ED5EC+1103340]\n\tOrdinal0 [0x007FD9F2+1169906]\n\tOrdinal0 [0x007ED406+1102854]\n\tOrdinal0 [0x007C75F0+947696]\n\tOrdinal0 [0x007C84E6+951526]\n\tGetHandleVerifier [0x00BA2A12+2733954]\n\tGetHandleVerifier [0x00B94E28+2677656]\n\tGetHandleVerifier [0x009846EA+513114]\n\tGetHandleVerifier [0x00983796+509190]\n\tOrdinal0 [0x00899CEB+1809643]\n\tOrdinal0 [0x0089E448+1827912]\n\tOrdinal0 [0x0089E535+1828149]\n\tOrdinal0 [0x008A7960+1866080]\n\tBaseThreadInitThunk [0x758CFA29+25]\n\tRtlGetAppContainerNamedObjectPath [0x76F07A9E+286]\n\tRtlGetAppContainerNamedObjectPath [0x76F07A6E+238]\n"
     ]
    }
   ],
   "source": [
    "driver = create_driver(download_dir=None, headless=False)\n",
    "driver.get('http://web.whatsapp.com/')"
   ]
  },
  {
   "cell_type": "code",
   "execution_count": 40,
   "metadata": {},
   "outputs": [],
   "source": [
    "while len(driver.find_element(By.ID, \"side\").text) < 1:\n",
    "    time.sleep(1)"
   ]
  },
  {
   "cell_type": "code",
   "execution_count": 57,
   "metadata": {},
   "outputs": [],
   "source": [
    "numero = '+55 15 99796-0047'\n",
    "texto = r\"FUNCIONAA!!!!!!\""
   ]
  },
  {
   "cell_type": "code",
   "execution_count": 58,
   "metadata": {},
   "outputs": [],
   "source": [
    "link = f'http://web.whatsapp.com/send?phone={numero}&text={texto}'"
   ]
  },
  {
   "cell_type": "code",
   "execution_count": 59,
   "metadata": {},
   "outputs": [],
   "source": [
    "driver.get(link)"
   ]
  },
  {
   "cell_type": "code",
   "execution_count": 48,
   "metadata": {},
   "outputs": [],
   "source": [
    "driver.find_element(By.XPATH, '/html/body/div[1]/div/div/div[4]/div/footer/div[1]/div/span[2]/div/div[2]/div[1]/div/div/p').send_keys(Keys.ENTER)"
   ]
  },
  {
   "cell_type": "code",
   "execution_count": 64,
   "metadata": {},
   "outputs": [],
   "source": [
    "driver.find_element(By.CSS_SELECTOR, \"#main > footer > div._2BU3P.tm2tP.copyable-area > div > span:nth-child(2) > div > div._3HQNh._1un-p > div._2jitM > div > span > div > div > ul > li:nth-child(4) > button > input[type=file]\").send_keys(r'C:\\Users\\vitor\\Documents\\Programas\\Bot_Controle_Loja\\hello_word.png')"
   ]
  },
  {
   "cell_type": "code",
   "execution_count": 49,
   "metadata": {},
   "outputs": [],
   "source": [
    "driver.find_element(By.XPATH, '/html/body/div[1]/div/div/div[2]/div[2]/span/div/span/div/div/div[2]/div/div[2]/div[2]/div/div').click()"
   ]
  },
  {
   "cell_type": "code",
   "execution_count": null,
   "metadata": {},
   "outputs": [],
   "source": []
  }
 ],
 "metadata": {
  "kernelspec": {
   "display_name": "Python 3.10.1 ('venv': venv)",
   "language": "python",
   "name": "python3"
  },
  "language_info": {
   "codemirror_mode": {
    "name": "ipython",
    "version": 3
   },
   "file_extension": ".py",
   "mimetype": "text/x-python",
   "name": "python",
   "nbconvert_exporter": "python",
   "pygments_lexer": "ipython3",
   "version": "3.10.1"
  },
  "orig_nbformat": 4,
  "vscode": {
   "interpreter": {
    "hash": "dc5573e5ffb19aa27d623dedfba374a8a6c65f7cbe1546f53d18f58321243b7e"
   }
  }
 },
 "nbformat": 4,
 "nbformat_minor": 2
}
