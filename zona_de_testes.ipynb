{
 "cells": [
  {
   "cell_type": "code",
   "execution_count": 13,
   "metadata": {},
   "outputs": [],
   "source": [
    "from selenium import webdriver\n",
    "from selenium.webdriver.common import actions\n",
    "from selenium.webdriver.common.by import By\n",
    "from selenium.webdriver.common.action_chains import ActionChains\n",
    "from selenium.webdriver.support import expected_conditions\n",
    "from selenium.webdriver.support.wait import WebDriverWait\n",
    "from selenium.webdriver.common.keys import Keys\n",
    "from selenium.webdriver.chrome.options import Options\n",
    "from selenium.webdriver.support import expected_conditions as ec\n",
    "import pandas as pd \n",
    "import os \n",
    "import sys\n",
    "from datetime import date, datetime\n",
    "import chromedriver_autoinstaller\n",
    "from bs4 import BeautifulSoup\n",
    "import lxml\n",
    "import time"
   ]
  },
  {
   "cell_type": "code",
   "execution_count": 14,
   "metadata": {},
   "outputs": [],
   "source": [
    "def clicking(path, element='elemento selecionado', refresh=False, by=By.XPATH, limit=3):\n",
    "    \"\"\"\n",
    "    * path: caminho do elemento que será encontrado na página. Pode ser um xpath, um ID, um name e etc;\n",
    "    * element: nome do elemento que será encontrado na página. Esse parâmetro tem como finalidade unicamente para melhor depuração. Pode ser omitido;\n",
    "    * refresh: default False - tem como objetivo atualizar a página para tentar clicar no elemento. Utilizado para clicar em arquivos em listas de query;\n",
    "    * by: default XPATH - método utilizado para localizar o elemento, como XPATH, ID, NAME, CSS_SELECTOR e etc;\n",
    "    * limit: default 3 - quantidade de vezes que a função irá tentar clicar no elemento. Por padrão, cada tentativa leva 20 segundos. Se o elemento não for encontrado, retornará None;\n",
    "    \"\"\"\n",
    "\n",
    "\n",
    "    if limit == 0:\n",
    "        return None\n",
    "\n",
    "\n",
    "    elif refresh:\n",
    "        driver.refresh()\n",
    "\n",
    "    try:\n",
    "        object = driver.find_element(by, path)\n",
    "        actions = ActionChains(driver)\n",
    "        actions.move_to_element(object).perform()\n",
    "        \n",
    "        found_element = driver.find_element(by, path)\n",
    "        print(f\">>>Sucesso {element}>>>\")\n",
    "\n",
    "    except:\n",
    "        print(f\"<<<Erro ao {element}, tentando novamente>>>\")\n",
    "        found_element = clicking(element=element, path=path, refresh=refresh, by=by, limit=limit - 1)\n",
    "\n",
    "\n",
    "    return found_element\n",
    "\n",
    "def create_driver(download_dir=None, headless=False):\n",
    "    chrome_options = Options()\n",
    "\n",
    "    if headless:\n",
    "        chrome_options.headless=True\n",
    "\n",
    "    if download_dir is not None:\n",
    "        download_dir=str(download_dir)\n",
    "\n",
    "\n",
    "    preferences = {\"download.default_directory\": download_dir,\n",
    "                   \"directory_upgrade\": True,\n",
    "                   \"safebrowsing.enabled\": True}\n",
    "    chrome_options.add_experimental_option(\"prefs\", preferences)\n",
    "    chromedriver_autoinstaller.install()\n",
    "    driver = webdriver.Chrome(options=chrome_options)\n",
    "    driver.implicitly_wait(20)\n",
    "\n",
    "    return driver\n",
    "\n",
    "def error(e):\n",
    "    print(\"Apresentou erro, gravando o erro\")\n",
    "    exc_type, exc_obj, exc_tb = sys.exc_info()\n",
    "    fname = os.path.split(exc_tb.tb_frame.f_code.co_filename)[1]\n",
    "    path_erro = r'\\\\branas06av3-nrd\\LAR_BRA_DIGITAL_F\\Facens\\Logs'\n",
    "    #path_erro = r\"C:\\Users\\IWX1057086\\Documents\\Programas\\TIM RPA\\log\"\n",
    "    today = date.today()\n",
    "    name = str(fname) + '_' + str(today) + '.txt'\n",
    "    arquivo = open(path_erro + '\\\\' + name, 'w')\n",
    "    arquivo.write(str(fname) + \"\\n\")\n",
    "    arquivo.write(str(e) + \"\\n\")\n",
    "    arquivo.write(str(exc_type) + \"\\n\")\n",
    "    arquivo.write(str(exc_tb.tb_lineno) + \"\\n\")\n",
    "    arquivo.close()\n",
    "   "
   ]
  },
  {
   "cell_type": "code",
   "execution_count": 15,
   "metadata": {},
   "outputs": [],
   "source": [
    "driver = create_driver(download_dir=None, headless=False)\n",
    "driver.get('http://web.whatsapp.com/')"
   ]
  },
  {
   "cell_type": "code",
   "execution_count": 43,
   "metadata": {},
   "outputs": [],
   "source": [
    "EXTRACT_SESSION = '''\n",
    "\n",
    "function getResultFromRequest(request) {\n",
    "    return new Promise((resolve, reject) => {\n",
    "        request.onsuccess = function (event) {\n",
    "            resolve(request.result);\n",
    "        };\n",
    "    });\n",
    "}\n",
    "   \n",
    "async function getDB() {\n",
    "    var request = window.indexedDB.open(\"wawc\");\n",
    "    return await getResultFromRequest(request);\n",
    "}\n",
    "   \n",
    "async function readAllKeyValuePairs() {\n",
    "    var db = await getDB();\n",
    "    var objectStore = db.transaction(\"user\").objectStore(\"user\");\n",
    "    var request = objectStore.getAll();\n",
    "       return await getResultFromRequest(request);\n",
    "}\n",
    "\n",
    "async function injectSession(SESSION_STRING) {\n",
    "    var session = JSON.parse(SESSION_STRING);\n",
    "    var db = await getDB();\n",
    "    var objectStore = db.transaction(\"user\", \"readwrite\").objectStore(\"user\");\n",
    "    for(var keyValue of session) {\n",
    "        var request = objectStore.put(keyValue);\n",
    "        await getResultFromRequest(request);\n",
    "    }\n",
    "}\n",
    "   \n",
    "\n",
    "session = await readAllKeyValuePairs();\n",
    "console.log(session);\n",
    "\n",
    "var SESSION_STRING = JSON.stringify(session);\n",
    "console.log(SESSION_STRING);\n",
    "\n",
    "await injectSession();\n",
    "'''\n"
   ]
  },
  {
   "cell_type": "code",
   "execution_count": 44,
   "metadata": {},
   "outputs": [
    {
     "ename": "JavascriptException",
     "evalue": "Message: javascript error: Unexpected token u in JSON at position 0\n  (Session info: chrome=103.0.5060.114)\nStacktrace:\nBacktrace:\n\tOrdinal0 [0x00A256B3+2184883]\n\tOrdinal0 [0x009BE5F1+1762801]\n\tOrdinal0 [0x008D3DA8+802216]\n\tOrdinal0 [0x008D6784+812932]\n\tOrdinal0 [0x008D6642+812610]\n\tOrdinal0 [0x008D6FBA+815034]\n\tOrdinal0 [0x0092D989+1169801]\n\tOrdinal0 [0x0091CB0C+1100556]\n\tOrdinal0 [0x0092CF52+1167186]\n\tOrdinal0 [0x0091C926+1100070]\n\tOrdinal0 [0x008F6EA0+945824]\n\tOrdinal0 [0x008F7D96+949654]\n\tGetHandleVerifier [0x00CC4192+2704034]\n\tGetHandleVerifier [0x00CB687D+2648461]\n\tGetHandleVerifier [0x00AB119A+529066]\n\tGetHandleVerifier [0x00AB0006+524566]\n\tOrdinal0 [0x009C4F2B+1789739]\n\tOrdinal0 [0x009C9978+1808760]\n\tOrdinal0 [0x009C9A65+1808997]\n\tOrdinal0 [0x009D2A01+1845761]\n\tBaseThreadInitThunk [0x767DFA29+25]\n\tRtlGetAppContainerNamedObjectPath [0x770B7A9E+286]\n\tRtlGetAppContainerNamedObjectPath [0x770B7A6E+238]\n",
     "output_type": "error",
     "traceback": [
      "\u001b[1;31m---------------------------------------------------------------------------\u001b[0m",
      "\u001b[1;31mJavascriptException\u001b[0m                       Traceback (most recent call last)",
      "\u001b[1;32mUntitled-1.ipynb Cell 5'\u001b[0m in \u001b[0;36m<cell line: 1>\u001b[1;34m()\u001b[0m\n\u001b[1;32m----> <a href='vscode-notebook-cell:Untitled-1.ipynb?jupyter-notebook#ch0000010untitled?line=0'>1</a>\u001b[0m session \u001b[39m=\u001b[39m driver\u001b[39m.\u001b[39;49mexecute_script(EXTRACT_SESSION)\n",
      "File \u001b[1;32mc:\\Users\\vitor\\Documents\\Programas\\Bot_Controle_Loja\\venv\\lib\\site-packages\\selenium\\webdriver\\remote\\webdriver.py:493\u001b[0m, in \u001b[0;36mWebDriver.execute_script\u001b[1;34m(self, script, *args)\u001b[0m\n\u001b[0;32m    490\u001b[0m converted_args \u001b[39m=\u001b[39m \u001b[39mlist\u001b[39m(args)\n\u001b[0;32m    491\u001b[0m command \u001b[39m=\u001b[39m Command\u001b[39m.\u001b[39mW3C_EXECUTE_SCRIPT\n\u001b[1;32m--> 493\u001b[0m \u001b[39mreturn\u001b[39;00m \u001b[39mself\u001b[39;49m\u001b[39m.\u001b[39;49mexecute(command, {\n\u001b[0;32m    494\u001b[0m     \u001b[39m'\u001b[39;49m\u001b[39mscript\u001b[39;49m\u001b[39m'\u001b[39;49m: script,\n\u001b[0;32m    495\u001b[0m     \u001b[39m'\u001b[39;49m\u001b[39margs\u001b[39;49m\u001b[39m'\u001b[39;49m: converted_args})[\u001b[39m'\u001b[39m\u001b[39mvalue\u001b[39m\u001b[39m'\u001b[39m]\n",
      "File \u001b[1;32mc:\\Users\\vitor\\Documents\\Programas\\Bot_Controle_Loja\\venv\\lib\\site-packages\\selenium\\webdriver\\remote\\webdriver.py:435\u001b[0m, in \u001b[0;36mWebDriver.execute\u001b[1;34m(self, driver_command, params)\u001b[0m\n\u001b[0;32m    433\u001b[0m response \u001b[39m=\u001b[39m \u001b[39mself\u001b[39m\u001b[39m.\u001b[39mcommand_executor\u001b[39m.\u001b[39mexecute(driver_command, params)\n\u001b[0;32m    434\u001b[0m \u001b[39mif\u001b[39;00m response:\n\u001b[1;32m--> 435\u001b[0m     \u001b[39mself\u001b[39;49m\u001b[39m.\u001b[39;49merror_handler\u001b[39m.\u001b[39;49mcheck_response(response)\n\u001b[0;32m    436\u001b[0m     response[\u001b[39m'\u001b[39m\u001b[39mvalue\u001b[39m\u001b[39m'\u001b[39m] \u001b[39m=\u001b[39m \u001b[39mself\u001b[39m\u001b[39m.\u001b[39m_unwrap_value(\n\u001b[0;32m    437\u001b[0m         response\u001b[39m.\u001b[39mget(\u001b[39m'\u001b[39m\u001b[39mvalue\u001b[39m\u001b[39m'\u001b[39m, \u001b[39mNone\u001b[39;00m))\n\u001b[0;32m    438\u001b[0m     \u001b[39mreturn\u001b[39;00m response\n",
      "File \u001b[1;32mc:\\Users\\vitor\\Documents\\Programas\\Bot_Controle_Loja\\venv\\lib\\site-packages\\selenium\\webdriver\\remote\\errorhandler.py:247\u001b[0m, in \u001b[0;36mErrorHandler.check_response\u001b[1;34m(self, response)\u001b[0m\n\u001b[0;32m    245\u001b[0m         alert_text \u001b[39m=\u001b[39m value[\u001b[39m'\u001b[39m\u001b[39malert\u001b[39m\u001b[39m'\u001b[39m]\u001b[39m.\u001b[39mget(\u001b[39m'\u001b[39m\u001b[39mtext\u001b[39m\u001b[39m'\u001b[39m)\n\u001b[0;32m    246\u001b[0m     \u001b[39mraise\u001b[39;00m exception_class(message, screen, stacktrace, alert_text)  \u001b[39m# type: ignore[call-arg]  # mypy is not smart enough here\u001b[39;00m\n\u001b[1;32m--> 247\u001b[0m \u001b[39mraise\u001b[39;00m exception_class(message, screen, stacktrace)\n",
      "\u001b[1;31mJavascriptException\u001b[0m: Message: javascript error: Unexpected token u in JSON at position 0\n  (Session info: chrome=103.0.5060.114)\nStacktrace:\nBacktrace:\n\tOrdinal0 [0x00A256B3+2184883]\n\tOrdinal0 [0x009BE5F1+1762801]\n\tOrdinal0 [0x008D3DA8+802216]\n\tOrdinal0 [0x008D6784+812932]\n\tOrdinal0 [0x008D6642+812610]\n\tOrdinal0 [0x008D6FBA+815034]\n\tOrdinal0 [0x0092D989+1169801]\n\tOrdinal0 [0x0091CB0C+1100556]\n\tOrdinal0 [0x0092CF52+1167186]\n\tOrdinal0 [0x0091C926+1100070]\n\tOrdinal0 [0x008F6EA0+945824]\n\tOrdinal0 [0x008F7D96+949654]\n\tGetHandleVerifier [0x00CC4192+2704034]\n\tGetHandleVerifier [0x00CB687D+2648461]\n\tGetHandleVerifier [0x00AB119A+529066]\n\tGetHandleVerifier [0x00AB0006+524566]\n\tOrdinal0 [0x009C4F2B+1789739]\n\tOrdinal0 [0x009C9978+1808760]\n\tOrdinal0 [0x009C9A65+1808997]\n\tOrdinal0 [0x009D2A01+1845761]\n\tBaseThreadInitThunk [0x767DFA29+25]\n\tRtlGetAppContainerNamedObjectPath [0x770B7A9E+286]\n\tRtlGetAppContainerNamedObjectPath [0x770B7A6E+238]\n"
     ]
    }
   ],
   "source": [
    "session = driver.execute_script(EXTRACT_SESSION)"
   ]
  },
  {
   "cell_type": "code",
   "execution_count": 37,
   "metadata": {},
   "outputs": [],
   "source": [
    "session"
   ]
  },
  {
   "cell_type": "code",
   "execution_count": 38,
   "metadata": {},
   "outputs": [],
   "source": [
    "sessionFilePath = r'C:\\Users\\vitor\\Documents\\Programas\\Bot_Controle_Loja\\session.wa'"
   ]
  },
  {
   "cell_type": "code",
   "execution_count": 39,
   "metadata": {},
   "outputs": [],
   "source": [
    "with open(sessionFilePath, \"w\", encoding=\"utf-8\") as sessionFile:\n",
    "    sessionFile.write(str(session))"
   ]
  },
  {
   "cell_type": "code",
   "execution_count": null,
   "metadata": {},
   "outputs": [],
   "source": []
  }
 ],
 "metadata": {
  "kernelspec": {
   "display_name": "Python 3.10.1 ('venv': venv)",
   "language": "python",
   "name": "python3"
  },
  "language_info": {
   "codemirror_mode": {
    "name": "ipython",
    "version": 3
   },
   "file_extension": ".py",
   "mimetype": "text/x-python",
   "name": "python",
   "nbconvert_exporter": "python",
   "pygments_lexer": "ipython3",
   "version": "3.10.1"
  },
  "orig_nbformat": 4,
  "vscode": {
   "interpreter": {
    "hash": "dc5573e5ffb19aa27d623dedfba374a8a6c65f7cbe1546f53d18f58321243b7e"
   }
  }
 },
 "nbformat": 4,
 "nbformat_minor": 2
}
