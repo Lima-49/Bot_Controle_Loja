{
 "cells": [
  {
   "cell_type": "code",
   "execution_count": 4,
   "metadata": {},
   "outputs": [],
   "source": [
    "from selenium import webdriver\n",
    "from selenium.webdriver.common import actions\n",
    "from selenium.webdriver.common.by import By\n",
    "from selenium.webdriver.common.action_chains import ActionChains\n",
    "from selenium.webdriver.support import expected_conditions\n",
    "from selenium.webdriver.support.wait import WebDriverWait\n",
    "from selenium.webdriver.common.keys import Keys\n",
    "from selenium.webdriver.chrome.options import Options\n",
    "from selenium.webdriver.support import expected_conditions as ec\n",
    "import pandas as pd \n",
    "import os \n",
    "import sys\n",
    "from datetime import date, datetime\n",
    "import chromedriver_autoinstaller\n",
    "from bs4 import BeautifulSoup\n",
    "import lxml\n",
    "import time\n",
    "import requests, pickle\n",
    "import base64\n",
    "import configparser\n",
    "from pathlib import Path"
   ]
  },
  {
   "cell_type": "code",
   "execution_count": 3,
   "metadata": {},
   "outputs": [],
   "source": [
    "def clicking(path, element='elemento selecionado', refresh=False, by=By.XPATH, limit=3):\n",
    "    \"\"\"\n",
    "    * path: caminho do elemento que será encontrado na página. Pode ser um xpath, um ID, um name e etc;\n",
    "    * element: nome do elemento que será encontrado na página. Esse parâmetro tem como finalidade unicamente para melhor depuração. Pode ser omitido;\n",
    "    * refresh: default False - tem como objetivo atualizar a página para tentar clicar no elemento. Utilizado para clicar em arquivos em listas de query;\n",
    "    * by: default XPATH - método utilizado para localizar o elemento, como XPATH, ID, NAME, CSS_SELECTOR e etc;\n",
    "    * limit: default 3 - quantidade de vezes que a função irá tentar clicar no elemento. Por padrão, cada tentativa leva 20 segundos. Se o elemento não for encontrado, retornará None;\n",
    "    \"\"\"\n",
    "\n",
    "\n",
    "    if limit == 0:\n",
    "        return None\n",
    "\n",
    "\n",
    "    elif refresh:\n",
    "        driver.refresh()\n",
    "\n",
    "    try:\n",
    "        object = driver.find_element(by, path)\n",
    "        actions = ActionChains(driver)\n",
    "        actions.move_to_element(object).perform()\n",
    "        \n",
    "        found_element = driver.find_element(by, path)\n",
    "        print(f\">>>Sucesso {element}>>>\")\n",
    "\n",
    "    except:\n",
    "        print(f\"<<<Erro ao {element}, tentando novamente>>>\")\n",
    "        found_element = clicking(element=element, path=path, refresh=refresh, by=by, limit=limit - 1)\n",
    "\n",
    "\n",
    "    return found_element\n",
    "\n",
    "def create_driver(download_dir=None, headless=False):\n",
    "    chrome_options = Options()\n",
    "\n",
    "    if headless:\n",
    "        chrome_options.headless=True\n",
    "\n",
    "    if download_dir is not None:\n",
    "        download_dir=str(download_dir)\n",
    "\n",
    "    preferences = {\"download.default_directory\": download_dir,\n",
    "                   \"directory_upgrade\": True,\n",
    "                   \"safebrowsing.enabled\": True}\n",
    "                   \n",
    "    #chrome_options.add_argument(\"user-data-dir=C:\\\\Users\\\\vitor\\\\AppData\\\\Local\\\\Google\\\\Chrome\\\\User Data\")\n",
    "    chrome_options.add_argument(f\"user-data-dir={os.path.join(os.getcwd(), 'profile', 'wpp')}\")\n",
    "    chrome_options.add_experimental_option(\"prefs\", preferences)\n",
    "    chromedriver_autoinstaller.install()\n",
    "    driver = webdriver.Chrome(options=chrome_options)\n",
    "    driver.implicitly_wait(20)\n",
    "\n",
    "    return driver\n",
    "\n",
    "def error(e):\n",
    "    print(\"Apresentou erro, gravando o erro\")\n",
    "    exc_type, exc_obj, exc_tb = sys.exc_info()\n",
    "    fname = os.path.split(exc_tb.tb_frame.f_code.co_filename)[1]\n",
    "    path_erro = r'\\\\branas06av3-nrd\\LAR_BRA_DIGITAL_F\\Facens\\Logs'\n",
    "    #path_erro = r\"C:\\Users\\IWX1057086\\Documents\\Programas\\TIM RPA\\log\"\n",
    "    today = date.today()\n",
    "    name = str(fname) + '_' + str(today) + '.txt'\n",
    "    arquivo = open(path_erro + '\\\\' + name, 'w')\n",
    "    arquivo.write(str(fname) + \"\\n\")\n",
    "    arquivo.write(str(e) + \"\\n\")\n",
    "    arquivo.write(str(exc_type) + \"\\n\")\n",
    "    arquivo.write(str(exc_tb.tb_lineno) + \"\\n\")\n",
    "    arquivo.close()\n",
    "   "
   ]
  },
  {
   "cell_type": "code",
   "execution_count": 15,
   "metadata": {},
   "outputs": [],
   "source": [
    "driver = create_driver()\n",
    "\n",
    "#Login\n",
    "usr = 'Alineliel'\n",
    "psw = 'Vitor*06'\n",
    "\n",
    "driver.get('https://phibo.space')"
   ]
  },
  {
   "cell_type": "code",
   "execution_count": 16,
   "metadata": {},
   "outputs": [
    {
     "name": "stdout",
     "output_type": "stream",
     "text": [
      ">>>Sucesso Passando o usuario>>>\n",
      ">>>Sucesso Passando a senha>>>\n",
      ">>>Sucesso Clicando em acessar>>>\n"
     ]
    }
   ],
   "source": [
    "clicking(element='Passando o usuario', path=\"/html/body/div[1]/form/div/div/input[1]\").send_keys(usr)\n",
    "clicking(element=\"Passando a senha\", path='/html/body/div[1]/form/div/div/input[2]').send_keys(psw)\n",
    "clicking(element='Clicando em acessar', path='/html/body/div[1]/form/div/div/button').click()\n"
   ]
  },
  {
   "cell_type": "code",
   "execution_count": 17,
   "metadata": {},
   "outputs": [
    {
     "name": "stdout",
     "output_type": "stream",
     "text": [
      ">>>Sucesso Clicando em vendas>>>\n",
      ">>>Sucesso Clicando em vendas>>>\n",
      ">>>Sucesso Clicando em vendas>>>\n",
      ">>>Sucesso Clicando em vendas>>>\n"
     ]
    }
   ],
   "source": [
    "clicking(element='Clicando em vendas', path='/html/body/div[1]/div[2]/div[1]/div[2]/form/table/tbody/tr/td[1]/div/ul/li[3]/a/span[2]').click()\n",
    "clicking(element='Clicando em vendas', path='/html/body/div[1]/div[2]/div[1]/div[2]/form/table/tbody/tr/td[1]/div/ul/li[3]/a/span[2]').click()\n",
    "clicking(element='Clicando em vendas', path='/html/body/div[1]/div[2]/div[1]/div[2]/form/table/tbody/tr/td[1]/div/ul/li[3]/a/span[2]').click()\n",
    "clicking(element='Clicando em vendas', path='/html/body/div[1]/div[2]/div[1]/div[2]/form/table/tbody/tr/td[1]/div/ul/li[3]/a/span[2]').click()"
   ]
  },
  {
   "cell_type": "code",
   "execution_count": 18,
   "metadata": {},
   "outputs": [
    {
     "name": "stdout",
     "output_type": "stream",
     "text": [
      ">>>Sucesso Selecionado Consulta Vendas>>>\n",
      ">>>Sucesso Selecionando Listar Cartão Fidelidade>>>\n"
     ]
    }
   ],
   "source": [
    "clicking(element='Selecionado Consulta Vendas', path=\"//span[text()='Consulta Vendas']\").click()                                                                    \n",
    "clicking(element='Selecionando Listar Cartão Fidelidade', path=\"//span[text()='Listar Cartão Fidelidade']\").click()\n",
    "time.sleep(10)"
   ]
  },
  {
   "cell_type": "code",
   "execution_count": 19,
   "metadata": {},
   "outputs": [
    {
     "name": "stdout",
     "output_type": "stream",
     "text": [
      ">>>Sucesso Limpando o campo de Quantidade>>>\n",
      ">>>Sucesso Limpando o campo de Quantidade>>>\n"
     ]
    }
   ],
   "source": [
    "clicking(element='Limpando o campo de Quantidade', path='/html/body/div[1]/div[2]/div[3]/form/table/tbody/tr/td[2]/div/span[1]/input[1]').clear()\n",
    "clicking(element='Limpando o campo de Quantidade', path='/html/body/div[1]/div[2]/div[3]/form/table/tbody/tr/td[2]/div/span[1]/input[1]').send_keys('10,00')"
   ]
  },
  {
   "cell_type": "code",
   "execution_count": 20,
   "metadata": {},
   "outputs": [
    {
     "name": "stdout",
     "output_type": "stream",
     "text": [
      ">>>Sucesso Clicando o campo de confirmar>>>\n"
     ]
    }
   ],
   "source": [
    "clicking(element='Clicando o campo de confirmar', path='/html/body/div[1]/div[2]/div[3]/form/table/tbody/tr/td[3]/a').click()\n",
    "time.sleep(10)"
   ]
  },
  {
   "cell_type": "code",
   "execution_count": 21,
   "metadata": {},
   "outputs": [],
   "source": [
    "df_fidelidade = pd.read_html(driver.find_element(By.XPATH, \"/html/body/div[1]/div[2]/div[3]/form/div[2]/div[2]/table\").get_attribute('outerHTML'))[0]"
   ]
  },
  {
   "cell_type": "markdown",
   "metadata": {},
   "source": [
    "### Whatsapp\n"
   ]
  },
  {
   "cell_type": "code",
   "execution_count": 5,
   "metadata": {},
   "outputs": [
    {
     "ename": "NameError",
     "evalue": "name '__file__' is not defined",
     "output_type": "error",
     "traceback": [
      "\u001b[1;31m---------------------------------------------------------------------------\u001b[0m",
      "\u001b[1;31mNameError\u001b[0m                                 Traceback (most recent call last)",
      "\u001b[1;32mc:\\Users\\Vitor Augusto\\Documents\\Programas\\Bot_Controle_Loja\\zona_de_testes.ipynb Célula: 11\u001b[0m in \u001b[0;36m<cell line: 2>\u001b[1;34m()\u001b[0m\n\u001b[0;32m      <a href='vscode-notebook-cell:/c%3A/Users/Vitor%20Augusto/Documents/Programas/Bot_Controle_Loja/zona_de_testes.ipynb#X13sZmlsZQ%3D%3D?line=0'>1</a>\u001b[0m session_path \u001b[39m=\u001b[39m os\u001b[39m.\u001b[39mpath\u001b[39m.\u001b[39mjoin(os\u001b[39m.\u001b[39mpath\u001b[39m.\u001b[39mexpanduser(\u001b[39m'\u001b[39m\u001b[39m~\u001b[39m\u001b[39m'\u001b[39m), \u001b[39m'\u001b[39m\u001b[39mwpp_session\u001b[39m\u001b[39m'\u001b[39m)\n\u001b[1;32m----> <a href='vscode-notebook-cell:/c%3A/Users/Vitor%20Augusto/Documents/Programas/Bot_Controle_Loja/zona_de_testes.ipynb#X13sZmlsZQ%3D%3D?line=1'>2</a>\u001b[0m output_path \u001b[39m=\u001b[39m Path(\u001b[39m__file__\u001b[39;49m)\u001b[39m.\u001b[39mparent\n\u001b[0;32m      <a href='vscode-notebook-cell:/c%3A/Users/Vitor%20Augusto/Documents/Programas/Bot_Controle_Loja/zona_de_testes.ipynb#X13sZmlsZQ%3D%3D?line=2'>3</a>\u001b[0m asseths_path \u001b[39m=\u001b[39m output_path \u001b[39m/\u001b[39m Path(\u001b[39m\"\u001b[39m\u001b[39m./config.txt\u001b[39m\u001b[39m\"\u001b[39m)\n",
      "\u001b[1;31mNameError\u001b[0m: name '__file__' is not defined"
     ]
    }
   ],
   "source": [
    "session_path = os.path.join(os.path.expanduser('~'), 'wpp_session')\n",
    "output_path = Path(__file__).parent\n",
    "asseths_path = output_path / Path(\"./config.txt\")"
   ]
  },
  {
   "cell_type": "code",
   "execution_count": 7,
   "metadata": {},
   "outputs": [],
   "source": [
    "def create_driver(download_dir=None, headless=False):\n",
    "    chrome_options = Options()\n",
    "\n",
    "    if headless:\n",
    "        chrome_options.headless=True\n",
    "\n",
    "    if download_dir is not None:\n",
    "        download_dir=str(download_dir)\n",
    "\n",
    "    preferences = {\"download.default_directory\": download_dir,\n",
    "                   \"directory_upgrade\": True,\n",
    "                   \"safebrowsing.enabled\": True}\n",
    "                   \n",
    "    #chrome_options.add_argument(\"user-data-dir=C:\\\\Users\\\\vitor\\\\AppData\\\\Local\\\\Google\\\\Chrome\\\\User Data\")\n",
    "    chrome_options.add_argument(f\"user-data-dir={session_path}\")\n",
    "    chrome_options.add_experimental_option(\"prefs\", preferences)\n",
    "    chromedriver_autoinstaller.install()\n",
    "    driver = webdriver.Chrome(options=chrome_options)\n",
    "    driver.implicitly_wait(20)\n",
    "\n",
    "    return driver\n"
   ]
  },
  {
   "cell_type": "code",
   "execution_count": 8,
   "metadata": {},
   "outputs": [],
   "source": [
    "driver = create_driver(download_dir=None, headless=False)\n",
    "driver.get('http://web.whatsapp.com/')"
   ]
  },
  {
   "cell_type": "code",
   "execution_count": 9,
   "metadata": {},
   "outputs": [],
   "source": [
    "if not os.path.exists(session_path):\n",
    "    \n",
    "    while len(driver.find_element(By.ID, 'side').text) < 1:\n",
    "        time.sleep(1)"
   ]
  },
  {
   "cell_type": "code",
   "execution_count": 10,
   "metadata": {},
   "outputs": [],
   "source": [
    "def decodeLogin(path):\n",
    "    \n",
    "    #Abrindo o arquivo de configurações\n",
    "    arq = configparser.RawConfigParser()\n",
    "    arq.read(path)\n",
    "\n",
    "    #Pegando os dados do arquivo\n",
    "    num = arq.get('RECEIVER', 'number')\n",
    "    num = base64.b64decode(num)\n",
    "    \n",
    "    return str(num, 'utf-8')"
   ]
  },
  {
   "cell_type": "code",
   "execution_count": 11,
   "metadata": {},
   "outputs": [
    {
     "data": {
      "text/plain": [
       "'+55 11 996883294'"
      ]
     },
     "execution_count": 11,
     "metadata": {},
     "output_type": "execute_result"
    }
   ],
   "source": [
    "numero = decodeLogin(r'C:\\Users\\Vitor Augusto\\Documents\\Programas\\Bot_Controle_Loja\\config.txt')\n",
    "numero"
   ]
  },
  {
   "cell_type": "code",
   "execution_count": 12,
   "metadata": {},
   "outputs": [],
   "source": [
    "link = f'http://web.whatsapp.com/send?phone={numero}'"
   ]
  },
  {
   "cell_type": "code",
   "execution_count": 14,
   "metadata": {},
   "outputs": [],
   "source": [
    "driver.get(link)"
   ]
  },
  {
   "cell_type": "code",
   "execution_count": 18,
   "metadata": {},
   "outputs": [],
   "source": [
    "driver.find_element(By.XPATH, \"//div[@title='Anexar']\").click()"
   ]
  },
  {
   "cell_type": "code",
   "execution_count": 19,
   "metadata": {},
   "outputs": [],
   "source": [
    "driver.find_element(By.XPATH, \"//input[@type='file']\").send_keys(r'C:\\Users\\Vitor Augusto\\Documents\\Programas\\Bot_Controle_Loja\\Download\\Lista Cartão Fidelidade.xlsx')"
   ]
  },
  {
   "cell_type": "code",
   "execution_count": null,
   "metadata": {},
   "outputs": [],
   "source": [
    "driver.find_element(By.XPATH, \"//div[@aria-label='Enviar']\").click()"
   ]
  }
 ],
 "metadata": {
  "kernelspec": {
   "display_name": "Python 3.10.4 ('venv': venv)",
   "language": "python",
   "name": "python3"
  },
  "language_info": {
   "codemirror_mode": {
    "name": "ipython",
    "version": 3
   },
   "file_extension": ".py",
   "mimetype": "text/x-python",
   "name": "python",
   "nbconvert_exporter": "python",
   "pygments_lexer": "ipython3",
   "version": "3.10.4"
  },
  "orig_nbformat": 4,
  "vscode": {
   "interpreter": {
    "hash": "d3a829029dee9fba4c5b28e4fa888731d199019dd31a0d1945e24a892051bdb3"
   }
  }
 },
 "nbformat": 4,
 "nbformat_minor": 2
}
