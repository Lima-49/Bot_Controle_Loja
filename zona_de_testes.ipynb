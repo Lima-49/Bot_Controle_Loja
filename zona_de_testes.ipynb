{
 "cells": [
  {
   "cell_type": "code",
   "execution_count": 1,
   "metadata": {},
   "outputs": [],
   "source": [
    "from selenium import webdriver\n",
    "from selenium.webdriver.common import actions\n",
    "from selenium.webdriver.common.by import By\n",
    "from selenium.webdriver.common.action_chains import ActionChains\n",
    "from selenium.webdriver.support import expected_conditions\n",
    "from selenium.webdriver.support.wait import WebDriverWait\n",
    "from selenium.webdriver.common.keys import Keys\n",
    "from selenium.webdriver.chrome.options import Options\n",
    "from selenium.webdriver.support import expected_conditions as ec\n",
    "import pandas as pd \n",
    "import os \n",
    "import sys\n",
    "from datetime import date, datetime\n",
    "import chromedriver_autoinstaller\n",
    "from bs4 import BeautifulSoup\n",
    "import lxml\n",
    "import time\n",
    "import requests, pickle"
   ]
  },
  {
   "cell_type": "code",
   "execution_count": 20,
   "metadata": {},
   "outputs": [],
   "source": [
    "def clicking(path, element='elemento selecionado', refresh=False, by=By.XPATH, limit=3):\n",
    "    \"\"\"\n",
    "    * path: caminho do elemento que será encontrado na página. Pode ser um xpath, um ID, um name e etc;\n",
    "    * element: nome do elemento que será encontrado na página. Esse parâmetro tem como finalidade unicamente para melhor depuração. Pode ser omitido;\n",
    "    * refresh: default False - tem como objetivo atualizar a página para tentar clicar no elemento. Utilizado para clicar em arquivos em listas de query;\n",
    "    * by: default XPATH - método utilizado para localizar o elemento, como XPATH, ID, NAME, CSS_SELECTOR e etc;\n",
    "    * limit: default 3 - quantidade de vezes que a função irá tentar clicar no elemento. Por padrão, cada tentativa leva 20 segundos. Se o elemento não for encontrado, retornará None;\n",
    "    \"\"\"\n",
    "\n",
    "\n",
    "    if limit == 0:\n",
    "        return None\n",
    "\n",
    "\n",
    "    elif refresh:\n",
    "        driver.refresh()\n",
    "\n",
    "    try:\n",
    "        object = driver.find_element(by, path)\n",
    "        actions = ActionChains(driver)\n",
    "        actions.move_to_element(object).perform()\n",
    "        \n",
    "        found_element = driver.find_element(by, path)\n",
    "        print(f\">>>Sucesso {element}>>>\")\n",
    "\n",
    "    except:\n",
    "        print(f\"<<<Erro ao {element}, tentando novamente>>>\")\n",
    "        found_element = clicking(element=element, path=path, refresh=refresh, by=by, limit=limit - 1)\n",
    "\n",
    "\n",
    "    return found_element\n",
    "\n",
    "def create_driver(download_dir=None, headless=False):\n",
    "    chrome_options = Options()\n",
    "\n",
    "    if headless:\n",
    "        chrome_options.headless=True\n",
    "\n",
    "    if download_dir is not None:\n",
    "        download_dir=str(download_dir)\n",
    "\n",
    "    preferences = {\"download.default_directory\": download_dir,\n",
    "                   \"directory_upgrade\": True,\n",
    "                   \"safebrowsing.enabled\": True}\n",
    "                   \n",
    "    #chrome_options.add_argument(\"user-data-dir=C:\\\\Users\\\\vitor\\\\AppData\\\\Local\\\\Google\\\\Chrome\\\\User Data\")\n",
    "    chrome_options.add_argument(f\"user-data-dir={os.path.join(os.getcwd(), 'profile', 'wpp')}\")\n",
    "    chrome_options.add_experimental_option(\"prefs\", preferences)\n",
    "    chromedriver_autoinstaller.install()\n",
    "    driver = webdriver.Chrome(options=chrome_options)\n",
    "    driver.implicitly_wait(20)\n",
    "\n",
    "    return driver\n",
    "\n",
    "def error(e):\n",
    "    print(\"Apresentou erro, gravando o erro\")\n",
    "    exc_type, exc_obj, exc_tb = sys.exc_info()\n",
    "    fname = os.path.split(exc_tb.tb_frame.f_code.co_filename)[1]\n",
    "    path_erro = r'\\\\branas06av3-nrd\\LAR_BRA_DIGITAL_F\\Facens\\Logs'\n",
    "    #path_erro = r\"C:\\Users\\IWX1057086\\Documents\\Programas\\TIM RPA\\log\"\n",
    "    today = date.today()\n",
    "    name = str(fname) + '_' + str(today) + '.txt'\n",
    "    arquivo = open(path_erro + '\\\\' + name, 'w')\n",
    "    arquivo.write(str(fname) + \"\\n\")\n",
    "    arquivo.write(str(e) + \"\\n\")\n",
    "    arquivo.write(str(exc_type) + \"\\n\")\n",
    "    arquivo.write(str(exc_tb.tb_lineno) + \"\\n\")\n",
    "    arquivo.close()\n",
    "   "
   ]
  },
  {
   "cell_type": "code",
   "execution_count": 23,
   "metadata": {},
   "outputs": [],
   "source": [
    "driver = create_driver(download_dir=None, headless=False)\n",
    "driver.get('http://web.whatsapp.com/')"
   ]
  }
 ],
 "metadata": {
  "kernelspec": {
   "display_name": "Python 3.10.1 ('venv': venv)",
   "language": "python",
   "name": "python3"
  },
  "language_info": {
   "codemirror_mode": {
    "name": "ipython",
    "version": 3
   },
   "file_extension": ".py",
   "mimetype": "text/x-python",
   "name": "python",
   "nbconvert_exporter": "python",
   "pygments_lexer": "ipython3",
   "version": "3.10.1"
  },
  "orig_nbformat": 4,
  "vscode": {
   "interpreter": {
    "hash": "dc5573e5ffb19aa27d623dedfba374a8a6c65f7cbe1546f53d18f58321243b7e"
   }
  }
 },
 "nbformat": 4,
 "nbformat_minor": 2
}
